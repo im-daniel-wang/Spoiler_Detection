{
 "cells": [
  {
   "cell_type": "code",
   "execution_count": 1,
   "metadata": {},
   "outputs": [
    {
     "name": "stderr",
     "output_type": "stream",
     "text": [
      "Using TensorFlow backend.\n",
      "/opt/anaconda3/envs/tf/lib/python3.6/site-packages/tensorflow/python/framework/dtypes.py:523: FutureWarning: Passing (type, 1) or '1type' as a synonym of type is deprecated; in a future version of numpy, it will be understood as (type, (1,)) / '(1,)type'.\n",
      "  _np_qint8 = np.dtype([(\"qint8\", np.int8, 1)])\n",
      "/opt/anaconda3/envs/tf/lib/python3.6/site-packages/tensorflow/python/framework/dtypes.py:524: FutureWarning: Passing (type, 1) or '1type' as a synonym of type is deprecated; in a future version of numpy, it will be understood as (type, (1,)) / '(1,)type'.\n",
      "  _np_quint8 = np.dtype([(\"quint8\", np.uint8, 1)])\n",
      "/opt/anaconda3/envs/tf/lib/python3.6/site-packages/tensorflow/python/framework/dtypes.py:525: FutureWarning: Passing (type, 1) or '1type' as a synonym of type is deprecated; in a future version of numpy, it will be understood as (type, (1,)) / '(1,)type'.\n",
      "  _np_qint16 = np.dtype([(\"qint16\", np.int16, 1)])\n",
      "/opt/anaconda3/envs/tf/lib/python3.6/site-packages/tensorflow/python/framework/dtypes.py:526: FutureWarning: Passing (type, 1) or '1type' as a synonym of type is deprecated; in a future version of numpy, it will be understood as (type, (1,)) / '(1,)type'.\n",
      "  _np_quint16 = np.dtype([(\"quint16\", np.uint16, 1)])\n",
      "/opt/anaconda3/envs/tf/lib/python3.6/site-packages/tensorflow/python/framework/dtypes.py:527: FutureWarning: Passing (type, 1) or '1type' as a synonym of type is deprecated; in a future version of numpy, it will be understood as (type, (1,)) / '(1,)type'.\n",
      "  _np_qint32 = np.dtype([(\"qint32\", np.int32, 1)])\n",
      "/opt/anaconda3/envs/tf/lib/python3.6/site-packages/tensorflow/python/framework/dtypes.py:532: FutureWarning: Passing (type, 1) or '1type' as a synonym of type is deprecated; in a future version of numpy, it will be understood as (type, (1,)) / '(1,)type'.\n",
      "  np_resource = np.dtype([(\"resource\", np.ubyte, 1)])\n"
     ]
    }
   ],
   "source": [
    "import numpy\n",
    "import pandas as pd\n",
    "import json\n",
    "import random\n",
    "import numpy as np\n",
    "import nltk\n",
    "from nltk.corpus import stopwords\n",
    "from nltk.tokenize import word_tokenize \n",
    "from sklearn.utils import resample\n",
    "from sklearn.model_selection import train_test_split\n",
    "from sklearn.linear_model import LogisticRegression\n",
    "from sklearn.feature_extraction.text import CountVectorizer,TfidfVectorizer\n",
    "from sklearn.metrics import confusion_matrix\n",
    "import pickle as pkl \n",
    "import argparse\n",
    "import gzip\n",
    "import random\n",
    "from sklearn import svm\n",
    "from sklearn import metrics\n",
    "import seaborn as sns\n",
    "import scipy as sp\n",
    "from keras import backend as K\n",
    "import tensorflow as tf"
   ]
  },
  {
   "cell_type": "markdown",
   "metadata": {},
   "source": [
    "### 1. Read Data"
   ]
  },
  {
   "cell_type": "markdown",
   "metadata": {},
   "source": [
    "#### 1.1 Read Raw Json File"
   ]
  },
  {
   "cell_type": "code",
   "execution_count": 2,
   "metadata": {},
   "outputs": [],
   "source": [
    "data = []\n",
    "with open('goodreads_reviews_spoiler.json') as f:\n",
    "    for line in f:\n",
    "        data.append(json.loads(line))"
   ]
  },
  {
   "cell_type": "code",
   "execution_count": 3,
   "metadata": {},
   "outputs": [
    {
     "data": {
      "text/plain": [
       "{'user_id': '8842281e1d1347389f2ab93d60773d4d',\n",
       " 'timestamp': '2017-08-30',\n",
       " 'review_sentences': [[0, 'This is a special book.'],\n",
       "  [0,\n",
       "   'It started slow for about the first third, then in the middle third it started to get interesting, then the last third blew my mind.'],\n",
       "  [0,\n",
       "   'This is what I love about good science fiction - it pushes your thinking about where things can go.'],\n",
       "  [0,\n",
       "   \"It is a 2015 Hugo winner, and translated from its original Chinese, which made it interesting in just a different way from most things I've read.\"],\n",
       "  [0,\n",
       "   'For instance the intermixing of Chinese revolutionary history - how they kept accusing people of being \"reactionaries\", etc.'],\n",
       "  [0, 'It is a book about science, and aliens.'],\n",
       "  [0,\n",
       "   'The science described in the book is impressive - its a book grounded in physics and pretty accurate as far as I could tell.'],\n",
       "  [1,\n",
       "   'Though when it got to folding protons into 8 dimensions I think he was just making stuff up - interesting to think about though.'],\n",
       "  [1,\n",
       "   'But what would happen if our SETI stations received a message - if we found someone was out there - and the person monitoring and answering the signal on our side was disillusioned?'],\n",
       "  [1,\n",
       "   'That part of the book was a bit dark - I would like to think human reaction to discovering alien civilization that is hostile would be more like Enders Game where we would band together.'],\n",
       "  [1,\n",
       "   'I did like how the book unveiled the Trisolaran culture through the game.'],\n",
       "  [1,\n",
       "   \"It was a smart way to build empathy with them and also understand what they've gone through across so many centuries.\"],\n",
       "  [1, 'And who know a 3 body problem was an unsolvable math problem?'],\n",
       "  [1,\n",
       "   \"But I still don't get who made the game - maybe that will come in the next book.\"],\n",
       "  [1, 'I loved this quote:'],\n",
       "  [1,\n",
       "   '\"In the long history of scientific progress, how many protons have been smashed apart in accelerators by physicists?'],\n",
       "  [1, 'How many neutrons and electrons?'],\n",
       "  [1, 'Probably no fewer than a hundred million.'],\n",
       "  [1,\n",
       "   'Every collision was probably the end of the civilizations and intelligences in a microcosmos.'],\n",
       "  [1,\n",
       "   'In fact, even in nature, the destruction of universes must be happening at every second--for example, through the decay of neutrons.'],\n",
       "  [1,\n",
       "   'Also, a high-energy cosmic ray entering the atmosphere may destroy thousands of such miniature universes....\"']],\n",
       " 'rating': 5,\n",
       " 'has_spoiler': True,\n",
       " 'book_id': '18245960',\n",
       " 'review_id': 'dfdbb7b0eb5a7e4c26d59a937e2e5feb'}"
      ]
     },
     "execution_count": 3,
     "metadata": {},
     "output_type": "execute_result"
    }
   ],
   "source": [
    "data[0]"
   ]
  },
  {
   "cell_type": "markdown",
   "metadata": {},
   "source": [
    "#### 1.2 Segment Spoiler and Non-Spoiler Sentences"
   ]
  },
  {
   "cell_type": "code",
   "execution_count": 4,
   "metadata": {},
   "outputs": [],
   "source": [
    "spoiler = []\n",
    "spoiler_ind = []\n",
    "\n",
    "# For each sentence, decide their percentile rank in the review\n",
    "non_spoiler = []\n",
    "non_spoiler_ind = []\n",
    "for i in data:\n",
    "    for j in range(len(i['review_sentences'])):\n",
    "        if i['review_sentences'][j][0] == True:\n",
    "            spoiler.append(i['review_sentences'][j][1])\n",
    "            spoiler_ind.append(j/len(i['review_sentences']))\n",
    "        else:\n",
    "            non_spoiler.append(i['review_sentences'][j][1])\n",
    "            non_spoiler_ind.append(j/len(i['review_sentences']))"
   ]
  },
  {
   "cell_type": "markdown",
   "metadata": {},
   "source": [
    "### 2. EDA"
   ]
  },
  {
   "cell_type": "markdown",
   "metadata": {},
   "source": [
    "#### 2.1 Basic Statistics"
   ]
  },
  {
   "cell_type": "code",
   "execution_count": 5,
   "metadata": {},
   "outputs": [],
   "source": [
    "all_review = spoiler + non_spoiler\n",
    "all_ind = spoiler_ind + non_spoiler_ind"
   ]
  },
  {
   "cell_type": "code",
   "execution_count": 6,
   "metadata": {},
   "outputs": [],
   "source": [
    "review_df = pd.DataFrame({\"review\":all_review, \"label\":[1]*len(spoiler) + [0]*len(non_spoiler), \"ind\":all_ind})"
   ]
  },
  {
   "cell_type": "code",
   "execution_count": 7,
   "metadata": {},
   "outputs": [
    {
     "name": "stdout",
     "output_type": "stream",
     "text": [
      "Number of documents is 17672655\n",
      "Number of labels is 2\n",
      "Label distribution is as follows: \n",
      "   label    review  proportion\n",
      "0      0  15308234    0.866210\n",
      "1      1    543823    0.030772\n",
      "Average word length in a review is 15.0737838768425\n"
     ]
    }
   ],
   "source": [
    "print(\"Number of documents is %s\"%len(review_df))\n",
    "print(\"Number of labels is %s\"%len(review_df.label.unique()))\n",
    "print(\"Label distribution is as follows: \")\n",
    "distribution = review_df.groupby('label')['review'].nunique().reset_index()\n",
    "distribution['proportion'] = distribution['review'] / len(review_df)\n",
    "print(distribution)\n",
    "print(\"Average word length in a review is %s\"%(np.mean([len(text.split(' ')) for text in review_df['review']])))"
   ]
  },
  {
   "cell_type": "code",
   "execution_count": 8,
   "metadata": {},
   "outputs": [
    {
     "data": {
      "text/html": [
       "<div>\n",
       "<style scoped>\n",
       "    .dataframe tbody tr th:only-of-type {\n",
       "        vertical-align: middle;\n",
       "    }\n",
       "\n",
       "    .dataframe tbody tr th {\n",
       "        vertical-align: top;\n",
       "    }\n",
       "\n",
       "    .dataframe thead th {\n",
       "        text-align: right;\n",
       "    }\n",
       "</style>\n",
       "<table border=\"1\" class=\"dataframe\">\n",
       "  <thead>\n",
       "    <tr style=\"text-align: right;\">\n",
       "      <th></th>\n",
       "      <th>review</th>\n",
       "      <th>label</th>\n",
       "      <th>ind</th>\n",
       "    </tr>\n",
       "  </thead>\n",
       "  <tbody>\n",
       "    <tr>\n",
       "      <th>0</th>\n",
       "      <td>Though when it got to folding protons into 8 d...</td>\n",
       "      <td>1</td>\n",
       "      <td>0.333333</td>\n",
       "    </tr>\n",
       "    <tr>\n",
       "      <th>1</th>\n",
       "      <td>But what would happen if our SETI stations rec...</td>\n",
       "      <td>1</td>\n",
       "      <td>0.380952</td>\n",
       "    </tr>\n",
       "    <tr>\n",
       "      <th>2</th>\n",
       "      <td>That part of the book was a bit dark - I would...</td>\n",
       "      <td>1</td>\n",
       "      <td>0.428571</td>\n",
       "    </tr>\n",
       "    <tr>\n",
       "      <th>3</th>\n",
       "      <td>I did like how the book unveiled the Trisolara...</td>\n",
       "      <td>1</td>\n",
       "      <td>0.476190</td>\n",
       "    </tr>\n",
       "    <tr>\n",
       "      <th>4</th>\n",
       "      <td>It was a smart way to build empathy with them ...</td>\n",
       "      <td>1</td>\n",
       "      <td>0.523810</td>\n",
       "    </tr>\n",
       "  </tbody>\n",
       "</table>\n",
       "</div>"
      ],
      "text/plain": [
       "                                              review  label       ind\n",
       "0  Though when it got to folding protons into 8 d...      1  0.333333\n",
       "1  But what would happen if our SETI stations rec...      1  0.380952\n",
       "2  That part of the book was a bit dark - I would...      1  0.428571\n",
       "3  I did like how the book unveiled the Trisolara...      1  0.476190\n",
       "4  It was a smart way to build empathy with them ...      1  0.523810"
      ]
     },
     "execution_count": 8,
     "metadata": {},
     "output_type": "execute_result"
    }
   ],
   "source": [
    "review_df.head()"
   ]
  },
  {
   "cell_type": "markdown",
   "metadata": {},
   "source": [
    "#### 2.1 Down-sample Non-Spoiler Sentences"
   ]
  },
  {
   "cell_type": "code",
   "execution_count": 9,
   "metadata": {},
   "outputs": [],
   "source": [
    "random.seed(123)\n",
    "non_spoiler = random.sample(list(zip(non_spoiler,non_spoiler_ind)), 569724)"
   ]
  },
  {
   "cell_type": "code",
   "execution_count": 10,
   "metadata": {},
   "outputs": [],
   "source": [
    "non_spoiler_text = [i[0] for i in non_spoiler]\n",
    "non_spoiler_ind = [i[1] for i in non_spoiler]"
   ]
  },
  {
   "cell_type": "code",
   "execution_count": 11,
   "metadata": {},
   "outputs": [],
   "source": [
    "all_review = spoiler + non_spoiler_text\n",
    "all_ind = spoiler_ind + non_spoiler_ind"
   ]
  },
  {
   "cell_type": "code",
   "execution_count": 12,
   "metadata": {},
   "outputs": [],
   "source": [
    "review_df = pd.DataFrame({\"review\":all_review, \"label\":[1]*len(spoiler) + [0]*len(non_spoiler), \"ind\":all_ind})"
   ]
  },
  {
   "cell_type": "code",
   "execution_count": 13,
   "metadata": {},
   "outputs": [
    {
     "data": {
      "text/html": [
       "<div>\n",
       "<style scoped>\n",
       "    .dataframe tbody tr th:only-of-type {\n",
       "        vertical-align: middle;\n",
       "    }\n",
       "\n",
       "    .dataframe tbody tr th {\n",
       "        vertical-align: top;\n",
       "    }\n",
       "\n",
       "    .dataframe thead th {\n",
       "        text-align: right;\n",
       "    }\n",
       "</style>\n",
       "<table border=\"1\" class=\"dataframe\">\n",
       "  <thead>\n",
       "    <tr style=\"text-align: right;\">\n",
       "      <th></th>\n",
       "      <th>review</th>\n",
       "      <th>label</th>\n",
       "      <th>ind</th>\n",
       "    </tr>\n",
       "  </thead>\n",
       "  <tbody>\n",
       "    <tr>\n",
       "      <th>0</th>\n",
       "      <td>Though when it got to folding protons into 8 d...</td>\n",
       "      <td>1</td>\n",
       "      <td>0.333333</td>\n",
       "    </tr>\n",
       "    <tr>\n",
       "      <th>1</th>\n",
       "      <td>But what would happen if our SETI stations rec...</td>\n",
       "      <td>1</td>\n",
       "      <td>0.380952</td>\n",
       "    </tr>\n",
       "    <tr>\n",
       "      <th>2</th>\n",
       "      <td>That part of the book was a bit dark - I would...</td>\n",
       "      <td>1</td>\n",
       "      <td>0.428571</td>\n",
       "    </tr>\n",
       "    <tr>\n",
       "      <th>3</th>\n",
       "      <td>I did like how the book unveiled the Trisolara...</td>\n",
       "      <td>1</td>\n",
       "      <td>0.476190</td>\n",
       "    </tr>\n",
       "    <tr>\n",
       "      <th>4</th>\n",
       "      <td>It was a smart way to build empathy with them ...</td>\n",
       "      <td>1</td>\n",
       "      <td>0.523810</td>\n",
       "    </tr>\n",
       "  </tbody>\n",
       "</table>\n",
       "</div>"
      ],
      "text/plain": [
       "                                              review  label       ind\n",
       "0  Though when it got to folding protons into 8 d...      1  0.333333\n",
       "1  But what would happen if our SETI stations rec...      1  0.380952\n",
       "2  That part of the book was a bit dark - I would...      1  0.428571\n",
       "3  I did like how the book unveiled the Trisolara...      1  0.476190\n",
       "4  It was a smart way to build empathy with them ...      1  0.523810"
      ]
     },
     "execution_count": 13,
     "metadata": {},
     "output_type": "execute_result"
    }
   ],
   "source": [
    "review_df.head()"
   ]
  },
  {
   "cell_type": "markdown",
   "metadata": {},
   "source": [
    "#### 2.2 Density Plot of Proportion of Spoiler Sentence in Entire Review"
   ]
  },
  {
   "cell_type": "code",
   "execution_count": 44,
   "metadata": {},
   "outputs": [],
   "source": [
    "prop  = []\n",
    "for i in data:\n",
    "    tot = len(i['review_sentences'])\n",
    "    tmp = 0\n",
    "    for j in i['review_sentences']:\n",
    "        if j[0] == True:\n",
    "            tmp += 1\n",
    "    prop.append(tmp/tot)"
   ]
  },
  {
   "cell_type": "code",
   "execution_count": 58,
   "metadata": {},
   "outputs": [
    {
     "name": "stderr",
     "output_type": "stream",
     "text": [
      "/opt/anaconda3/lib/python3.8/site-packages/seaborn/distributions.py:1659: FutureWarning: The `bw` parameter is deprecated in favor of `bw_method` and `bw_adjust`. Using 0.5 for `bw_method`, but please see the docs for the new parameters and update your code.\n",
      "  warnings.warn(msg, FutureWarning)\n"
     ]
    },
    {
     "data": {
      "text/plain": [
       "[Text(0.5, 0, 'Proportion of Spoiler')]"
      ]
     },
     "execution_count": 58,
     "metadata": {},
     "output_type": "execute_result"
    },
    {
     "data": {
      "image/png": "[encoded data removed]",
      "text/plain": [
       "<Figure size 144x144 with 1 Axes>"
      ]
     },
     "metadata": {},
     "output_type": "display_data"
    }
   ],
   "source": [
    "sns.set(rc={'figure.figsize':(2, 2)})\n",
    "sns.set_style('whitegrid')\n",
    "ax = sns.kdeplot(np.array(prop), bw=0.5)\n",
    "ax.set(xlabel='Proportion of Spoiler')"
   ]
  },
  {
   "cell_type": "markdown",
   "metadata": {},
   "source": [
    "#### 2.3 Density Plots of Percentile Rank of Spoiler vs. Non-Spoiler Sentences in Review Text"
   ]
  },
  {
   "cell_type": "code",
   "execution_count": 68,
   "metadata": {},
   "outputs": [
    {
     "data": {
      "image/png": "[encoded data removed]",
      "text/plain": [
       "<Figure size 432x288 with 1 Axes>"
      ]
     },
     "metadata": {
      "needs_background": "light"
     },
     "output_type": "display_data"
    }
   ],
   "source": [
    "p1=sns.kdeplot(spoiler_ind, shade=True, color=\"r\")\n",
    "p1=sns.kdeplot(non_spoiler_ind, shade=True, color=\"b\")"
   ]
  },
  {
   "cell_type": "markdown",
   "metadata": {},
   "source": [
    "#### 2.4 Bar plots of word length for spoiler and non-spoiler sentences"
   ]
  },
  {
   "cell_type": "code",
   "execution_count": 8,
   "metadata": {},
   "outputs": [],
   "source": [
    "num_word_sp = []\n",
    "num_word_nsp = []\n",
    "\n",
    "for i in spoiler:\n",
    "    num_word_sp.append(len(i.split()))\n",
    "for i in non_spoiler:\n",
    "    num_word_nsp.append(len(i.split()))"
   ]
  },
  {
   "cell_type": "code",
   "execution_count": 9,
   "metadata": {},
   "outputs": [
    {
     "data": {
      "text/plain": [
       "16.330421397027333"
      ]
     },
     "execution_count": 9,
     "metadata": {},
     "output_type": "execute_result"
    }
   ],
   "source": [
    "np.mean(num_word_sp)"
   ]
  },
  {
   "cell_type": "code",
   "execution_count": 10,
   "metadata": {},
   "outputs": [
    {
     "data": {
      "text/plain": [
       "15.026560359741847"
      ]
     },
     "execution_count": 10,
     "metadata": {},
     "output_type": "execute_result"
    }
   ],
   "source": [
    "np.mean(num_word_nsp)"
   ]
  },
  {
   "cell_type": "code",
   "execution_count": 24,
   "metadata": {},
   "outputs": [],
   "source": [
    "dat = pd.DataFrame({'Type':['Spoiler', 'Non-Spoiler'], 'Word Length':[16.33, 15.02]})"
   ]
  },
  {
   "cell_type": "code",
   "execution_count": 25,
   "metadata": {},
   "outputs": [
    {
     "data": {
      "image/png": "[encoded data removed]",
      "text/plain": [
       "<Figure size 144x144 with 1 Axes>"
      ]
     },
     "metadata": {},
     "output_type": "display_data"
    }
   ],
   "source": [
    "sns.set(rc={'figure.figsize':(2, 2),\"font.size\":20,\"axes.titlesize\":20,\"axes.labelsize\":20},style=\"white\")\n",
    "# sns.set_context(\"paper\", rc={\"font.size\":8,\"axes.titlesize\":8,\"axes.labelsize\":5})  \n",
    "sns.set_theme(style=\"whitegrid\")\n",
    "ax = sns.barplot(x=\"Type\", y=\"Word Length\", data=dat, linewidth=2.5, facecolor=(1, 1, 1, 0),\n",
    "                 errcolor=\".2\", edgecolor=\".2\")"
   ]
  },
  {
   "cell_type": "markdown",
   "metadata": {},
   "source": [
    "#### 2.5 Bar plot of occurrences of common words related to plots"
   ]
  },
  {
   "cell_type": "code",
   "execution_count": 7,
   "metadata": {},
   "outputs": [],
   "source": [
    "spoiler_die = 0\n",
    "non_spoiler_die = 0\n",
    "for i in spoiler:\n",
    "    if 'die' in i:\n",
    "        spoiler_die += 1\n",
    "for i in non_spoiler:\n",
    "    if 'die' in i:\n",
    "        non_spoiler_die += 1"
   ]
  },
  {
   "cell_type": "code",
   "execution_count": 10,
   "metadata": {},
   "outputs": [],
   "source": [
    "occurance_die = pd.DataFrame({'Type':['Spoiler', 'Non-Spoiler'], 'Occurances':[spoiler_die/len(spoiler), non_spoiler_die/len(non_spoiler)]})"
   ]
  },
  {
   "cell_type": "code",
   "execution_count": 17,
   "metadata": {},
   "outputs": [
    {
     "data": {
      "image/png": "[encoded data removed]",
      "text/plain": [
       "<Figure size 144x144 with 1 Axes>"
      ]
     },
     "metadata": {},
     "output_type": "display_data"
    }
   ],
   "source": [
    "sns.set(rc={'figure.figsize':(2, 2),\"font.size\":20,\"axes.titlesize\":20,\"axes.labelsize\":20},style=\"white\")\n",
    "sns.set_theme(style=\"whitegrid\")\n",
    "ax = sns.barplot(x=\"Type\", y=\"Occurances\", data=occurance_die, color=\"salmon\", saturation=.5).set_title('Occurrence of \\'Die\\'')"
   ]
  },
  {
   "cell_type": "code",
   "execution_count": 18,
   "metadata": {},
   "outputs": [],
   "source": [
    "spoiler_survive = 0\n",
    "non_spoiler_survive = 0\n",
    "for i in spoiler:\n",
    "    if 'survive' in i:\n",
    "        spoiler_survive += 1\n",
    "for i in non_spoiler:\n",
    "    if 'survive' in i:\n",
    "        non_spoiler_survive += 1"
   ]
  },
  {
   "cell_type": "code",
   "execution_count": 19,
   "metadata": {},
   "outputs": [],
   "source": [
    "occurance_survive = pd.DataFrame({'Type':['Spoiler', 'Non-Spoiler'], 'Occurances':[spoiler_survive/len(spoiler), non_spoiler_survive/len(non_spoiler)]})"
   ]
  },
  {
   "cell_type": "code",
   "execution_count": 23,
   "metadata": {
    "scrolled": true
   },
   "outputs": [
    {
     "data": {
      "image/png": "[encoded data removed]",
      "text/plain": [
       "<Figure size 144x144 with 1 Axes>"
      ]
     },
     "metadata": {},
     "output_type": "display_data"
    }
   ],
   "source": [
    "sns.set(rc={'figure.figsize':(2, 2),\"font.size\":20,\"axes.titlesize\":20,\"axes.labelsize\":20},style=\"white\")\n",
    "sns.set_theme(style=\"whitegrid\")\n",
    "ax = sns.barplot(x=\"Type\", y=\"Occurances\", data=occurance_survive, color=\"springgreen\", saturation=.5).set_title('Occurrence of \\'Survive\\'')"
   ]
  },
  {
   "cell_type": "markdown",
   "metadata": {},
   "source": [
    "### 3. Process Review Text"
   ]
  },
  {
   "cell_type": "markdown",
   "metadata": {},
   "source": [
    "#### 3.1 Remove Stop Words and Tokenization"
   ]
  },
  {
   "cell_type": "code",
   "execution_count": 14,
   "metadata": {},
   "outputs": [],
   "source": [
    "stop_words = set(stopwords.words('english')) \n",
    "\n",
    "def process_review(text):\n",
    "    clean_rev = [w.lower() for w in word_tokenize(text) if w not in stop_words and w.isalpha()]\n",
    "    return ' '.join(clean_rev)"
   ]
  },
  {
   "cell_type": "code",
   "execution_count": 15,
   "metadata": {},
   "outputs": [],
   "source": [
    "review_sentence = list(review_df.review)"
   ]
  },
  {
   "cell_type": "code",
   "execution_count": 16,
   "metadata": {},
   "outputs": [],
   "source": [
    "clean_review = list(map(process_review, review_sentence))"
   ]
  },
  {
   "cell_type": "code",
   "execution_count": 17,
   "metadata": {},
   "outputs": [],
   "source": [
    "review_df['clean_review'] = clean_review\n",
    "review_df = review_df.drop(columns=['review'])"
   ]
  },
  {
   "cell_type": "code",
   "execution_count": 18,
   "metadata": {},
   "outputs": [
    {
     "data": {
      "text/html": [
       "<div>\n",
       "<style scoped>\n",
       "    .dataframe tbody tr th:only-of-type {\n",
       "        vertical-align: middle;\n",
       "    }\n",
       "\n",
       "    .dataframe tbody tr th {\n",
       "        vertical-align: top;\n",
       "    }\n",
       "\n",
       "    .dataframe thead th {\n",
       "        text-align: right;\n",
       "    }\n",
       "</style>\n",
       "<table border=\"1\" class=\"dataframe\">\n",
       "  <thead>\n",
       "    <tr style=\"text-align: right;\">\n",
       "      <th></th>\n",
       "      <th>label</th>\n",
       "      <th>ind</th>\n",
       "      <th>clean_review</th>\n",
       "    </tr>\n",
       "  </thead>\n",
       "  <tbody>\n",
       "    <tr>\n",
       "      <th>0</th>\n",
       "      <td>1</td>\n",
       "      <td>0.333333</td>\n",
       "      <td>though got folding protons dimensions i think ...</td>\n",
       "    </tr>\n",
       "    <tr>\n",
       "      <th>1</th>\n",
       "      <td>1</td>\n",
       "      <td>0.380952</td>\n",
       "      <td>but would happen seti stations received messag...</td>\n",
       "    </tr>\n",
       "    <tr>\n",
       "      <th>2</th>\n",
       "      <td>1</td>\n",
       "      <td>0.428571</td>\n",
       "      <td>that part book bit dark i would like think hum...</td>\n",
       "    </tr>\n",
       "    <tr>\n",
       "      <th>3</th>\n",
       "      <td>1</td>\n",
       "      <td>0.476190</td>\n",
       "      <td>i like book unveiled trisolaran culture game</td>\n",
       "    </tr>\n",
       "    <tr>\n",
       "      <th>4</th>\n",
       "      <td>1</td>\n",
       "      <td>0.523810</td>\n",
       "      <td>it smart way build empathy also understand gon...</td>\n",
       "    </tr>\n",
       "  </tbody>\n",
       "</table>\n",
       "</div>"
      ],
      "text/plain": [
       "   label       ind                                       clean_review\n",
       "0      1  0.333333  though got folding protons dimensions i think ...\n",
       "1      1  0.380952  but would happen seti stations received messag...\n",
       "2      1  0.428571  that part book bit dark i would like think hum...\n",
       "3      1  0.476190       i like book unveiled trisolaran culture game\n",
       "4      1  0.523810  it smart way build empathy also understand gon..."
      ]
     },
     "execution_count": 18,
     "metadata": {},
     "output_type": "execute_result"
    }
   ],
   "source": [
    "review_df.head()"
   ]
  },
  {
   "cell_type": "markdown",
   "metadata": {},
   "source": [
    "#### 3.2 Train/Test Split"
   ]
  },
  {
   "cell_type": "code",
   "execution_count": 19,
   "metadata": {},
   "outputs": [],
   "source": [
    "# train, test = train_test_split(review_df[['clean_review', 'label']].dropna(), random_state = 123)\n",
    "train, test = train_test_split(review_df.dropna(), random_state = 123)\n",
    "\n",
    "train_x = train['clean_review'].values\n",
    "train_x_other = train['ind'].values\n",
    "train_y = train['label'].values\n",
    "test_x = test['clean_review'].values\n",
    "test_x_other = test['ind'].values\n",
    "test_y = test['label'].values"
   ]
  },
  {
   "cell_type": "code",
   "execution_count": 20,
   "metadata": {},
   "outputs": [],
   "source": [
    "def tf_idf(train, test, max_df=0.95, ngram=(1,1)):\n",
    "\n",
    "    tfidf_vectorizer = TfidfVectorizer(use_idf=True, max_df=max_df, ngram_range=ngram)\n",
    "    tfidf_vectorizer.fit_transform(train)\n",
    "    train_feature = tfidf_vectorizer.transform(train)\n",
    "    test_feature = tfidf_vectorizer.transform(test)\n",
    "    return train_feature, test_feature"
   ]
  },
  {
   "cell_type": "markdown",
   "metadata": {},
   "source": [
    "### 4. Modeling\n",
    "#### 4.1 SVM"
   ]
  },
  {
   "cell_type": "code",
   "execution_count": 18,
   "metadata": {},
   "outputs": [],
   "source": [
    "train_x_tfidf, test_x_tfidf = tf_idf(train_x, test_x, max_df=0.95, ngram=(1,1))"
   ]
  },
  {
   "cell_type": "code",
   "execution_count": 19,
   "metadata": {},
   "outputs": [
    {
     "name": "stderr",
     "output_type": "stream",
     "text": [
      "/opt/anaconda3/lib/python3.8/site-packages/sklearn/svm/_base.py:976: ConvergenceWarning: Liblinear failed to converge, increase the number of iterations.\n",
      "  warnings.warn(\"Liblinear failed to converge, increase \"\n"
     ]
    }
   ],
   "source": [
    "clf = svm.LinearSVC(random_state=123, penalty='l2', C=1.0, loss = 'hinge')\n",
    "clf.fit(train_x_tfidf, train_y)\n",
    "pred = clf.predict(test_x_tfidf)"
   ]
  },
  {
   "cell_type": "code",
   "execution_count": 27,
   "metadata": {},
   "outputs": [],
   "source": [
    "def performance_metric(test, pred):\n",
    "    precision = metrics.precision_score(test, pred)\n",
    "    recall = metrics.recall_score(test, pred)\n",
    "    f1 = metrics.f1_score(test, pred)\n",
    "    accuracy = metrics.accuracy_score(test, pred)\n",
    "    roc_auc_score = metrics.roc_auc_score(test, pred)\n",
    "    return accuracy, precision, recall, f1, roc_auc_score"
   ]
  },
  {
   "cell_type": "code",
   "execution_count": 21,
   "metadata": {},
   "outputs": [
    {
     "data": {
      "text/plain": [
       "(0.6935779430039809,\n",
       " 0.6818100577889281,\n",
       " 0.7242281270435034,\n",
       " 0.7023792475604018,\n",
       " 0.6936234961612784)"
      ]
     },
     "execution_count": 21,
     "metadata": {},
     "output_type": "execute_result"
    }
   ],
   "source": [
    "performance_metric(test_y, pred)"
   ]
  },
  {
   "cell_type": "code",
   "execution_count": 22,
   "metadata": {},
   "outputs": [],
   "source": [
    "train_x_tfidf, test_x_tfidf = tf_idf(train_x, test_x, max_df=0.95, ngram=(1,2))"
   ]
  },
  {
   "cell_type": "code",
   "execution_count": 23,
   "metadata": {},
   "outputs": [
    {
     "name": "stderr",
     "output_type": "stream",
     "text": [
      "/opt/anaconda3/lib/python3.8/site-packages/sklearn/svm/_base.py:976: ConvergenceWarning: Liblinear failed to converge, increase the number of iterations.\n",
      "  warnings.warn(\"Liblinear failed to converge, increase \"\n"
     ]
    }
   ],
   "source": [
    "clf = svm.LinearSVC(random_state=123, penalty='l2', C=1.0, loss = 'hinge')\n",
    "clf.fit(train_x_tfidf, train_y)\n",
    "pred = clf.predict(test_x_tfidf)"
   ]
  },
  {
   "cell_type": "code",
   "execution_count": 24,
   "metadata": {},
   "outputs": [
    {
     "data": {
      "text/plain": [
       "(0.6998090303374968,\n",
       " 0.68902,\n",
       " 0.7267172459376032,\n",
       " 0.7073667352225557,\n",
       " 0.6998490220770649)"
      ]
     },
     "execution_count": 24,
     "metadata": {},
     "output_type": "execute_result"
    }
   ],
   "source": [
    "performance_metric(test_y, pred)"
   ]
  },
  {
   "cell_type": "code",
   "execution_count": 25,
   "metadata": {},
   "outputs": [],
   "source": [
    "train_x_tfidf, test_x_tfidf = tf_idf(train_x, test_x, max_df=0.95, ngram=(1,1))"
   ]
  },
  {
   "cell_type": "code",
   "execution_count": 26,
   "metadata": {},
   "outputs": [
    {
     "name": "stderr",
     "output_type": "stream",
     "text": [
      "/opt/anaconda3/lib/python3.8/site-packages/sklearn/svm/_base.py:976: ConvergenceWarning: Liblinear failed to converge, increase the number of iterations.\n",
      "  warnings.warn(\"Liblinear failed to converge, increase \"\n"
     ]
    }
   ],
   "source": [
    "clf = svm.LinearSVC(random_state=123, penalty='l2', C=15.0, loss = 'hinge')\n",
    "clf.fit(train_x_tfidf, train_y)\n",
    "pred = clf.predict(test_x_tfidf)"
   ]
  },
  {
   "cell_type": "code",
   "execution_count": 27,
   "metadata": {},
   "outputs": [
    {
     "data": {
      "text/plain": [
       "(0.6881016070939613,\n",
       " 0.6810450687598798,\n",
       " 0.7058409917099684,\n",
       " 0.6932213689851389,\n",
       " 0.688127971861518)"
      ]
     },
     "execution_count": 27,
     "metadata": {},
     "output_type": "execute_result"
    }
   ],
   "source": [
    "performance_metric(test_y, pred)"
   ]
  },
  {
   "cell_type": "code",
   "execution_count": 28,
   "metadata": {},
   "outputs": [],
   "source": [
    "train_x_tfidf, test_x_tfidf = tf_idf(train_x, test_x, max_df=0.95, ngram=(1,2))"
   ]
  },
  {
   "cell_type": "code",
   "execution_count": 29,
   "metadata": {},
   "outputs": [
    {
     "name": "stderr",
     "output_type": "stream",
     "text": [
      "/opt/anaconda3/lib/python3.8/site-packages/sklearn/svm/_base.py:976: ConvergenceWarning: Liblinear failed to converge, increase the number of iterations.\n",
      "  warnings.warn(\"Liblinear failed to converge, increase \"\n"
     ]
    }
   ],
   "source": [
    "clf = svm.LinearSVC(random_state=123, penalty='l2', C=15.0, loss = 'hinge')\n",
    "clf.fit(train_x_tfidf, train_y)\n",
    "pred = clf.predict(test_x_tfidf)"
   ]
  },
  {
   "cell_type": "code",
   "execution_count": 30,
   "metadata": {
    "scrolled": true
   },
   "outputs": [
    {
     "data": {
      "text/plain": [
       "(0.661481699910834,\n",
       " 0.657174241384045,\n",
       " 0.6730746243469579,\n",
       " 0.6650294047151755,\n",
       " 0.6614989296380583)"
      ]
     },
     "execution_count": 30,
     "metadata": {},
     "output_type": "execute_result"
    }
   ],
   "source": [
    "performance_metric(test_y, pred)"
   ]
  },
  {
   "cell_type": "markdown",
   "metadata": {},
   "source": [
    "#### 4.2 Logistic Regression"
   ]
  },
  {
   "cell_type": "code",
   "execution_count": 15,
   "metadata": {},
   "outputs": [],
   "source": [
    "train_x_tfidf_12, test_x_tfidf_12 = tf_idf(train_x, test_x, max_df=0.95, ngram=(1,2))"
   ]
  },
  {
   "cell_type": "code",
   "execution_count": 16,
   "metadata": {},
   "outputs": [
    {
     "data": {
      "text/plain": [
       "(0.6887756176675022,\n",
       " 0.6816692556590399,\n",
       " 0.7065933525056427,\n",
       " 0.6939075673772087,\n",
       " 0.6888020988813415)"
      ]
     },
     "execution_count": 16,
     "metadata": {},
     "output_type": "execute_result"
    }
   ],
   "source": [
    "lr_12gram_c5 = LogisticRegression(solver='liblinear', random_state=123, C=5, penalty='l1', max_iter=100)\n",
    "model = lr_12gram_c5.fit(train_x_tfidf_12,train_y)\n",
    "pred = model.predict(test_x_tfidf_12)\n",
    "performance_metric(test_y, pred)"
   ]
  },
  {
   "cell_type": "code",
   "execution_count": 17,
   "metadata": {},
   "outputs": [
    {
     "data": {
      "text/plain": [
       "(0.6997809465635992,\n",
       " 0.6906532879605095,\n",
       " 0.7220976100239771,\n",
       " 0.706025512782172,\n",
       " 0.6998141142104771)"
      ]
     },
     "execution_count": 17,
     "metadata": {},
     "output_type": "execute_result"
    }
   ],
   "source": [
    "lr_12gram_c15 = LogisticRegression(solver='liblinear', random_state=123, C=5, penalty='l2', max_iter=100)\n",
    "model = lr_12gram_c15.fit(train_x_tfidf_12,train_y)\n",
    "pred = model.predict(test_x_tfidf_12)\n",
    "performance_metric(test_y, pred)"
   ]
  },
  {
   "cell_type": "code",
   "execution_count": 18,
   "metadata": {},
   "outputs": [
    {
     "data": {
      "text/plain": [
       "(0.6750847778924531,\n",
       " 0.6694231228465186,\n",
       " 0.6898796925867852,\n",
       " 0.6794974790847138,\n",
       " 0.6751067665067925)"
      ]
     },
     "execution_count": 18,
     "metadata": {},
     "output_type": "execute_result"
    }
   ],
   "source": [
    "lr_12gram_c15_l1 = LogisticRegression(solver='liblinear', random_state=123, C=15, penalty='l1', max_iter=100)\n",
    "model = lr_12gram_c15_l1.fit(train_x_tfidf_12,train_y)\n",
    "pred = model.predict(test_x_tfidf_12)\n",
    "performance_metric(test_y, pred)"
   ]
  },
  {
   "cell_type": "code",
   "execution_count": 19,
   "metadata": {},
   "outputs": [
    {
     "data": {
      "text/plain": [
       "(0.6908292436337595,\n",
       " 0.6833362677248533,\n",
       " 0.7095465444138969,\n",
       " 0.6961948029100392,\n",
       " 0.6908570618075597)"
      ]
     },
     "execution_count": 19,
     "metadata": {},
     "output_type": "execute_result"
    }
   ],
   "source": [
    "lr_12gram_c15_l2 = LogisticRegression(solver='liblinear', random_state=123, C=15, penalty='l2', max_iter=100)\n",
    "model = lr_12gram_c15_l2.fit(train_x_tfidf_12,train_y)\n",
    "pred = model.predict(test_x_tfidf_12)\n",
    "performance_metric(test_y, pred)"
   ]
  },
  {
   "cell_type": "markdown",
   "metadata": {},
   "source": [
    "#### 4.3 Additional Features of Percentile Rank of Sentence"
   ]
  },
  {
   "cell_type": "markdown",
   "metadata": {},
   "source": [
    "#### 4.3.1 SVM"
   ]
  },
  {
   "cell_type": "code",
   "execution_count": 22,
   "metadata": {},
   "outputs": [],
   "source": [
    "def tf_idf(train, test, max_df=0.95, ngram=(1,1)):\n",
    "\n",
    "    tfidf_vectorizer = TfidfVectorizer(use_idf=True, max_df=max_df, ngram_range=ngram)\n",
    "    tfidf_vectorizer.fit_transform(train)\n",
    "    train_feature = tfidf_vectorizer.transform(train)\n",
    "    test_feature = tfidf_vectorizer.transform(test)\n",
    "    return tfidf_vectorizer, train_feature, test_feature"
   ]
  },
  {
   "cell_type": "code",
   "execution_count": 23,
   "metadata": {},
   "outputs": [],
   "source": [
    "vectorizer, train_x_tfidf, test_x_tfidf = tf_idf(train_x, test_x, max_df=0.95, ngram=(1,2))"
   ]
  },
  {
   "cell_type": "code",
   "execution_count": 24,
   "metadata": {},
   "outputs": [],
   "source": [
    "final = sp.sparse.hstack((train_x_tfidf, np.reshape(train_x_other, (-1, 1))))"
   ]
  },
  {
   "cell_type": "code",
   "execution_count": 25,
   "metadata": {},
   "outputs": [
    {
     "name": "stderr",
     "output_type": "stream",
     "text": [
      "/opt/anaconda3/envs/tf/lib/python3.6/site-packages/sklearn/svm/_base.py:977: ConvergenceWarning: Liblinear failed to converge, increase the number of iterations.\n",
      "  \"the number of iterations.\", ConvergenceWarning)\n"
     ]
    }
   ],
   "source": [
    "clf = svm.LinearSVC(random_state=123, penalty='l2', C=1.0, loss = 'hinge')\n",
    "clf.fit(final, train_y)\n",
    "test_final = sp.sparse.hstack((test_x_tfidf, np.reshape(test_x_other, (-1, 1))))\n",
    "pred = clf.predict(test_final)"
   ]
  },
  {
   "cell_type": "code",
   "execution_count": 28,
   "metadata": {},
   "outputs": [
    {
     "data": {
      "text/plain": [
       "(0.7157571034395602,\n",
       " 0.7022099848793983,\n",
       " 0.7477833482164831,\n",
       " 0.7242804799978206,\n",
       " 0.7158047017366567)"
      ]
     },
     "execution_count": 28,
     "metadata": {},
     "output_type": "execute_result"
    }
   ],
   "source": [
    "performance_metric(test_y, pred)"
   ]
  },
  {
   "cell_type": "markdown",
   "metadata": {},
   "source": [
    "#### 4.3.1.1 Save model artifacts"
   ]
  },
  {
   "cell_type": "code",
   "execution_count": 29,
   "metadata": {},
   "outputs": [],
   "source": [
    "with open('vectorizer.pkl', 'wb') as f:\n",
    "    pkl.dump(vectorizer, f)"
   ]
  },
  {
   "cell_type": "code",
   "execution_count": 30,
   "metadata": {},
   "outputs": [],
   "source": [
    "pkl.dump(clf, open('svm.sav', 'wb'))"
   ]
  },
  {
   "cell_type": "markdown",
   "metadata": {},
   "source": [
    "#### 4.3.2 LR"
   ]
  },
  {
   "cell_type": "code",
   "execution_count": 24,
   "metadata": {},
   "outputs": [],
   "source": [
    "lr_12gram_c15 = LogisticRegression(solver='liblinear', random_state=123, C=5, penalty='l2', max_iter=100)\n",
    "model = lr_12gram_c15.fit(final,train_y)"
   ]
  },
  {
   "cell_type": "code",
   "execution_count": 26,
   "metadata": {},
   "outputs": [
    {
     "data": {
      "text/plain": [
       "(0.7148268284292043,\n",
       " 0.7042166738105443,\n",
       " 0.7393386256407372,\n",
       " 0.7213503881233899,\n",
       " 0.7148632585450098)"
      ]
     },
     "execution_count": 26,
     "metadata": {},
     "output_type": "execute_result"
    }
   ],
   "source": [
    "pred = model.predict(test_final)\n",
    "performance_metric(test_y, pred)"
   ]
  },
  {
   "cell_type": "markdown",
   "metadata": {},
   "source": [
    "#### 4.4 CNN"
   ]
  },
  {
   "cell_type": "markdown",
   "metadata": {},
   "source": [
    "##### The following codes are adapted from lecture5.py published on Canvas"
   ]
  },
  {
   "cell_type": "code",
   "execution_count": 82,
   "metadata": {},
   "outputs": [],
   "source": [
    "\"\"\"\n",
    "\n",
    "An implementation of text classifier using word-level embeddings\n",
    "and a convolutional neural network.\n",
    "\n",
    "Disclaimer: tested on Keras==2.2.4 with tensorflow, you might have to modify the code to work with later keras versions or cntk, theano backends\n",
    "\n",
    "\"\"\"\n",
    "\n",
    "import logging\n",
    "\n",
    "logging.basicConfig(format='%(asctime)s : %(levelname)s : %(message)s', level=logging.DEBUG)\n",
    "\n",
    "from keras.models import Sequential\n",
    "from keras.layers import Dense, Embedding, Flatten, Dropout\n",
    "from keras.layers.pooling import MaxPooling1D\n",
    "from keras.layers.convolutional import Conv1D\n",
    "from keras.regularizers import l2\n",
    "from keras.callbacks import EarlyStopping\n",
    "import gensim\n",
    "from keras.preprocessing.sequence import pad_sequences\n",
    "import numpy as np\n",
    "import keras\n",
    "\n",
    "\n",
    "def token_to_index(token, dictionary):\n",
    "    \"\"\"\n",
    "    Given a token and a gensim dictionary, return the token index\n",
    "    if in the dictionary, None otherwise.\n",
    "    Reserve index 0 for padding.\n",
    "    \"\"\"\n",
    "    if token not in dictionary.token2id:\n",
    "        return None\n",
    "    return dictionary.token2id[token] + 1\n",
    "\n",
    "def texts_to_indices(text, dictionary):\n",
    "    \"\"\"\n",
    "    Given a list of tokens (text) and a gensim dictionary, return a list\n",
    "    of token ids.\n",
    "    \"\"\"\n",
    "    result = list(map(lambda x: token_to_index(x, dictionary), text))\n",
    "    return list(filter(None, result))\n",
    "\n",
    "def recall_m(y_true, y_pred):\n",
    "        true_positives = K.sum(K.round(K.clip(y_true * y_pred, 0, 1)))\n",
    "        possible_positives = K.sum(K.round(K.clip(y_true, 0, 1)))\n",
    "        recall = true_positives / (possible_positives + K.epsilon())\n",
    "        return recall\n",
    "\n",
    "def precision_m(y_true, y_pred):\n",
    "        true_positives = K.sum(K.round(K.clip(y_true * y_pred, 0, 1)))\n",
    "        predicted_positives = K.sum(K.round(K.clip(y_pred, 0, 1)))\n",
    "        precision = true_positives / (predicted_positives + K.epsilon())\n",
    "        return precision\n",
    "\n",
    "def f1_m(y_true, y_pred):\n",
    "    precision = precision_m(y_true, y_pred)\n",
    "    recall = recall_m(y_true, y_pred)\n",
    "    return 2*((precision*recall)/(precision+recall+K.epsilon()))\n",
    "\n",
    "def auc_m(y_true, y_pred):\n",
    "    auc = tf.metrics.auc(y_true, y_pred)[1]\n",
    "    K.get_session().run(tf.local_variables_initializer())\n",
    "    return auc\n",
    "\n",
    "def train(train_texts, train_labels, dictionary, model_file=None, EMBEDDINGS_MODEL_FILE=None):\n",
    "    \"\"\"\n",
    "    Train a word-level CNN text classifier.\n",
    "    :param train_texts: tokenized and normalized texts, a list of token lists, [['sentence', 'blah', 'blah'], ['sentence', '2'], .....]\n",
    "    :param train_labels: the label for each train text\n",
    "    :param dictionary: A gensim dictionary object for the training text tokens\n",
    "    :param model_file: An optional output location for the ML model file\n",
    "    :param EMBEDDINGS_MODEL_FILE: An optinal location for pre-trained word embeddings file location\n",
    "    :return: the produced keras model, the validation accuracy, and the size of the training examples\n",
    "    \"\"\"\n",
    "    assert len(train_texts)==len(train_labels)\n",
    "    # compute the max sequence length\n",
    "    # why do we need to do that?\n",
    "    lengths=list(map(lambda x: len(x), train_texts))\n",
    "    a = np.array(lengths)\n",
    "    MAX_SEQUENCE_LENGTH = int(np.percentile(a, SEQUENCE_LENGTH_PERCENTILE))\n",
    "    # convert all texts to dictionary indices\n",
    "    #train_texts_indices = list(map(lambda x: texts_to_indices(x[0], dictionary), train_texts))\n",
    "    train_texts_indices = list(map(lambda x: texts_to_indices(x, dictionary), train_texts))\n",
    "    # pad or truncate the texts\n",
    "    x_data = pad_sequences(train_texts_indices, maxlen=int(MAX_SEQUENCE_LENGTH))\n",
    "    # convert the train labels to one-hot encoded vectors\n",
    "    train_labels = keras.utils.to_categorical(train_labels)\n",
    "    y_data = train_labels\n",
    "\n",
    "    model = Sequential()\n",
    "\n",
    "    # create embeddings matrix from word2vec pre-trained embeddings, if provided\n",
    "    if pretrained_embedding:\n",
    "        embeddings_index = gensim.models.KeyedVectors.load_word2vec_format(EMBEDDINGS_MODEL_FILE, binary=True)\n",
    "        embedding_matrix = np.zeros((len(dictionary) + 1, EMBEDDING_DIM))\n",
    "        for word, i in dictionary.token2id.items():\n",
    "            embedding_vector = embeddings_index[word] if word in embeddings_index else None\n",
    "            if embedding_vector is not None:\n",
    "                # words not found in embedding index will be all-zeros.\n",
    "                embedding_matrix[i] = embedding_vector\n",
    "        model.add(Embedding(len(dictionary) + 1,\n",
    "                            EMBEDDING_DIM,\n",
    "                            weights=[embedding_matrix],\n",
    "                            input_length=MAX_SEQUENCE_LENGTH,\n",
    "                            trainable=TRAINABLE_EMBEDDINGS))\n",
    "    else:\n",
    "        model.add(Embedding(len(dictionary) + 1,\n",
    "                            EMBEDDING_DIM,\n",
    "                            input_length=MAX_SEQUENCE_LENGTH))\n",
    "    # add drop out for the input layer, why do you think this might help?\n",
    "    model.add(Dropout(dropout_rate))\n",
    "    # add a 1 dimensional conv layer\n",
    "    # a rectified linear activation unit, returns input if input > 0 else 0\n",
    "    model.add(Conv1D(filters=n_filters,\n",
    "                     kernel_size=window_size,\n",
    "                     activation='relu'))\n",
    "    # add a max pooling layer\n",
    "    model.add(MaxPooling1D(MAX_SEQUENCE_LENGTH - window_size + 1))\n",
    "    model.add(Flatten())\n",
    "\n",
    "    # add 0 or more fully connected layers with drop out\n",
    "    for _ in range(n_layers):\n",
    "        model.add(Dropout(dropout_rate))\n",
    "        model.add(Dense(hidden_units,\n",
    "                        activation=dense_activation,\n",
    "                        kernel_regularizer=l2(l2_penalty),\n",
    "                        bias_regularizer=l2(l2_penalty),\n",
    "                        kernel_initializer='glorot_uniform',\n",
    "                        bias_initializer='zeros'))\n",
    "\n",
    "    # add the last fully connected layer with softmax activation\n",
    "    model.add(Dropout(dropout_rate))\n",
    "    model.add(Dense(len(train_labels[0]),\n",
    "                    activation='softmax',\n",
    "                    kernel_regularizer=l2(l2_penalty),\n",
    "                    bias_regularizer=l2(l2_penalty),\n",
    "                    kernel_initializer='glorot_uniform',\n",
    "                    bias_initializer='zeros'))\n",
    "\n",
    "    # compile the model, provide an optimizer\n",
    "    model.compile(loss='categorical_crossentropy',\n",
    "                  optimizer='rmsprop',\n",
    "                  metrics=['accuracy', f1_m, auc_m])\n",
    "\n",
    "    # print a summary\n",
    "    print(model.summary())\n",
    "\n",
    "\n",
    "    # train the model with early stopping\n",
    "    early_stopping = EarlyStopping(patience=patience)\n",
    "    Y = np.array(y_data)\n",
    "\n",
    "    fit = model.fit(x_data,\n",
    "                    Y,\n",
    "                    batch_size=batch_size,\n",
    "                    epochs=epochs,\n",
    "                    validation_split=VALIDATION_SPLIT,\n",
    "                    verbose=1,\n",
    "                    callbacks=[early_stopping])\n",
    "\n",
    "    print(fit.history.keys())\n",
    "    val_accuracy = fit.history['acc'][-1]\n",
    "    print(val_accuracy)\n",
    "    # save the model\n",
    "\n",
    "    # if model_file:\n",
    "    #     model.save(model_file)\n",
    "    return model, fit.history['val_f1_m'][-1], fit.history['val_auc_m'][-1]\n",
    "\n",
    "\n",
    "# which lines of code define model regularizers, which lines define model optimizers?\n",
    "\n",
    "def tokenize(text):\n",
    "    # for each token in the text (the result of text.split(),\n",
    "    # apply a function that strips punctuation and converts to lower case.\n",
    "    tokens = map(lambda x: x.strip(',.&').lower(), text.split())\n",
    "    # get rid of empty tokens\n",
    "    tokens = list(filter(None, tokens))\n",
    "    return tokens"
   ]
  },
  {
   "cell_type": "code",
   "execution_count": 22,
   "metadata": {},
   "outputs": [],
   "source": [
    "subset = train.sample(150000)"
   ]
  },
  {
   "cell_type": "code",
   "execution_count": 23,
   "metadata": {},
   "outputs": [],
   "source": [
    "texts = map(lambda x:x.split(), subset['clean_review'])"
   ]
  },
  {
   "cell_type": "code",
   "execution_count": 24,
   "metadata": {},
   "outputs": [],
   "source": [
    "texts = list(texts)"
   ]
  },
  {
   "cell_type": "code",
   "execution_count": 25,
   "metadata": {},
   "outputs": [],
   "source": [
    "labels = list(subset['label'])"
   ]
  },
  {
   "cell_type": "code",
   "execution_count": 26,
   "metadata": {
    "scrolled": true
   },
   "outputs": [
    {
     "name": "stderr",
     "output_type": "stream",
     "text": [
      "2020-11-23 11:18:19,742 : INFO : adding document #0 to Dictionary(0 unique tokens: [])\n",
      "2020-11-23 11:18:19,900 : INFO : adding document #10000 to Dictionary(12836 unique tokens: ['lots', 'love', 'series', 'get', 'away']...)\n",
      "2020-11-23 11:18:20,039 : INFO : adding document #20000 to Dictionary(18077 unique tokens: ['lots', 'love', 'series', 'get', 'away']...)\n",
      "2020-11-23 11:18:20,184 : INFO : adding document #30000 to Dictionary(22136 unique tokens: ['lots', 'love', 'series', 'get', 'away']...)\n",
      "2020-11-23 11:18:20,324 : INFO : adding document #40000 to Dictionary(25430 unique tokens: ['lots', 'love', 'series', 'get', 'away']...)\n",
      "2020-11-23 11:18:20,466 : INFO : adding document #50000 to Dictionary(28241 unique tokens: ['lots', 'love', 'series', 'get', 'away']...)\n",
      "2020-11-23 11:18:20,611 : INFO : adding document #60000 to Dictionary(30821 unique tokens: ['lots', 'love', 'series', 'get', 'away']...)\n",
      "2020-11-23 11:18:20,757 : INFO : adding document #70000 to Dictionary(33073 unique tokens: ['lots', 'love', 'series', 'get', 'away']...)\n",
      "2020-11-23 11:18:20,911 : INFO : adding document #80000 to Dictionary(35093 unique tokens: ['lots', 'love', 'series', 'get', 'away']...)\n",
      "2020-11-23 11:18:21,069 : INFO : adding document #90000 to Dictionary(37023 unique tokens: ['lots', 'love', 'series', 'get', 'away']...)\n",
      "2020-11-23 11:18:21,227 : INFO : adding document #100000 to Dictionary(38661 unique tokens: ['lots', 'love', 'series', 'get', 'away']...)\n",
      "2020-11-23 11:18:21,380 : INFO : adding document #110000 to Dictionary(40290 unique tokens: ['lots', 'love', 'series', 'get', 'away']...)\n",
      "2020-11-23 11:18:21,545 : INFO : adding document #120000 to Dictionary(41892 unique tokens: ['lots', 'love', 'series', 'get', 'away']...)\n",
      "2020-11-23 11:18:21,701 : INFO : adding document #130000 to Dictionary(43297 unique tokens: ['lots', 'love', 'series', 'get', 'away']...)\n",
      "2020-11-23 11:18:21,857 : INFO : adding document #140000 to Dictionary(44696 unique tokens: ['lots', 'love', 'series', 'get', 'away']...)\n",
      "2020-11-23 11:18:22,006 : INFO : built Dictionary(45983 unique tokens: ['lots', 'love', 'series', 'get', 'away']...) from 150000 documents (total 1266425 corpus positions)\n"
     ]
    }
   ],
   "source": [
    "mydict = gensim.corpora.Dictionary(texts)"
   ]
  },
  {
   "cell_type": "code",
   "execution_count": 93,
   "metadata": {},
   "outputs": [],
   "source": [
    "EMBEDDING_DIM = 100\n",
    "SEQUENCE_LENGTH_PERCENTILE = 90\n",
    "n_layers = 2\n",
    "hidden_units = 500\n",
    "batch_size = 150\n",
    "pretrained_embedding = False\n",
    "# if we have pre-trained embeddings, specify if they are static or non-static embeddings\n",
    "TRAINABLE_EMBEDDINGS = True\n",
    "patience = 10\n",
    "dropout_rate = 0.3\n",
    "n_filters = 100\n",
    "window_size = 8\n",
    "dense_activation = \"relu\"\n",
    "l2_penalty = 0.0001\n",
    "epochs = 10\n",
    "VALIDATION_SPLIT = 0.1"
   ]
  },
  {
   "cell_type": "code",
   "execution_count": 94,
   "metadata": {
    "scrolled": true
   },
   "outputs": [
    {
     "name": "stdout",
     "output_type": "stream",
     "text": [
      "_________________________________________________________________\n",
      "Layer (type)                 Output Shape              Param #   \n",
      "=================================================================\n",
      "embedding_14 (Embedding)     (None, 16, 100)           4598400   \n",
      "_________________________________________________________________\n",
      "dropout_53 (Dropout)         (None, 16, 100)           0         \n",
      "_________________________________________________________________\n",
      "conv1d_14 (Conv1D)           (None, 9, 100)            80100     \n",
      "_________________________________________________________________\n",
      "max_pooling1d_14 (MaxPooling (None, 1, 100)            0         \n",
      "_________________________________________________________________\n",
      "flatten_14 (Flatten)         (None, 100)               0         \n",
      "_________________________________________________________________\n",
      "dropout_54 (Dropout)         (None, 100)               0         \n",
      "_________________________________________________________________\n",
      "dense_40 (Dense)             (None, 500)               50500     \n",
      "_________________________________________________________________\n",
      "dropout_55 (Dropout)         (None, 500)               0         \n",
      "_________________________________________________________________\n",
      "dense_41 (Dense)             (None, 500)               250500    \n",
      "_________________________________________________________________\n",
      "dropout_56 (Dropout)         (None, 500)               0         \n",
      "_________________________________________________________________\n",
      "dense_42 (Dense)             (None, 2)                 1002      \n",
      "=================================================================\n",
      "Total params: 4,980,502\n",
      "Trainable params: 4,980,502\n",
      "Non-trainable params: 0\n",
      "_________________________________________________________________\n",
      "None\n",
      "Train on 135000 samples, validate on 15000 samples\n",
      "Epoch 1/10\n",
      "135000/135000 [==============================] - 49s 362us/step - loss: 0.6331 - acc: 0.6441 - f1_m: 0.6441 - auc_m: 0.6562 - val_loss: 0.5992 - val_acc: 0.6749 - val_f1_m: 0.6749 - val_auc_m: 0.7093\n",
      "Epoch 2/10\n",
      "135000/135000 [==============================] - 46s 342us/step - loss: 0.5835 - acc: 0.6938 - f1_m: 0.6938 - auc_m: 0.7275 - val_loss: 0.5930 - val_acc: 0.6823 - val_f1_m: 0.6823 - val_auc_m: 0.7373\n",
      "Epoch 3/10\n",
      "135000/135000 [==============================] - 47s 347us/step - loss: 0.5608 - acc: 0.7143 - f1_m: 0.7143 - auc_m: 0.7473 - val_loss: 0.6020 - val_acc: 0.6793 - val_f1_m: 0.6793 - val_auc_m: 0.7537\n",
      "Epoch 4/10\n",
      "135000/135000 [==============================] - 48s 357us/step - loss: 0.5341 - acc: 0.7357 - f1_m: 0.7357 - auc_m: 0.7619 - val_loss: 0.6015 - val_acc: 0.6779 - val_f1_m: 0.6779 - val_auc_m: 0.7679\n",
      "Epoch 5/10\n",
      "135000/135000 [==============================] - 48s 352us/step - loss: 0.5041 - acc: 0.7561 - f1_m: 0.7561 - auc_m: 0.7754 - val_loss: 0.6235 - val_acc: 0.6708 - val_f1_m: 0.6708 - val_auc_m: 0.7811\n",
      "Epoch 6/10\n",
      "135000/135000 [==============================] - 49s 363us/step - loss: 0.4782 - acc: 0.7739 - f1_m: 0.7739 - auc_m: 0.7878 - val_loss: 0.6410 - val_acc: 0.6681 - val_f1_m: 0.6681 - val_auc_m: 0.7930\n",
      "Epoch 7/10\n",
      "135000/135000 [==============================] - 47s 349us/step - loss: 0.4515 - acc: 0.7902 - f1_m: 0.7902 - auc_m: 0.7991 - val_loss: 0.6804 - val_acc: 0.6657 - val_f1_m: 0.6657 - val_auc_m: 0.8038\n",
      "Epoch 8/10\n",
      "135000/135000 [==============================] - 47s 348us/step - loss: 0.4285 - acc: 0.8043 - f1_m: 0.8043 - auc_m: 0.8093 - val_loss: 0.6590 - val_acc: 0.6603 - val_f1_m: 0.6603 - val_auc_m: 0.8137\n",
      "Epoch 9/10\n",
      "135000/135000 [==============================] - 47s 349us/step - loss: 0.4087 - acc: 0.8148 - f1_m: 0.8148 - auc_m: 0.8185 - val_loss: 0.6810 - val_acc: 0.6571 - val_f1_m: 0.6571 - val_auc_m: 0.8225\n",
      "Epoch 10/10\n",
      "135000/135000 [==============================] - 48s 355us/step - loss: 0.3899 - acc: 0.8241 - f1_m: 0.8241 - auc_m: 0.8269 - val_loss: 0.7167 - val_acc: 0.6505 - val_f1_m: 0.6505 - val_auc_m: 0.8305\n",
      "dict_keys(['val_loss', 'val_acc', 'val_f1_m', 'val_auc_m', 'loss', 'acc', 'f1_m', 'auc_m'])\n",
      "0.824125925567415\n"
     ]
    }
   ],
   "source": [
    "model, f1, auc = train(texts, labels, mydict, model_file='yelp_cnn.model')"
   ]
  },
  {
   "cell_type": "code",
   "execution_count": 95,
   "metadata": {},
   "outputs": [
    {
     "data": {
      "text/plain": [
       "0.6504666084051132"
      ]
     },
     "execution_count": 95,
     "metadata": {},
     "output_type": "execute_result"
    }
   ],
   "source": [
    "f1"
   ]
  },
  {
   "cell_type": "code",
   "execution_count": 96,
   "metadata": {},
   "outputs": [
    {
     "data": {
      "text/plain": [
       "0.8305102503299713"
      ]
     },
     "execution_count": 96,
     "metadata": {},
     "output_type": "execute_result"
    }
   ],
   "source": [
    "auc"
   ]
  },
  {
   "cell_type": "code",
   "execution_count": 89,
   "metadata": {},
   "outputs": [],
   "source": [
    "EMBEDDING_DIM = 100\n",
    "SEQUENCE_LENGTH_PERCENTILE = 90\n",
    "n_layers = 2\n",
    "hidden_units = 500\n",
    "batch_size = 150\n",
    "pretrained_embedding = False\n",
    "# if we have pre-trained embeddings, specify if they are static or non-static embeddings\n",
    "TRAINABLE_EMBEDDINGS = True\n",
    "patience = 10\n",
    "dropout_rate = 0.3\n",
    "n_filters = 100\n",
    "window_size = 8\n",
    "dense_activation = \"sigmoid\"\n",
    "l2_penalty = 0.0001\n",
    "epochs = 10\n",
    "VALIDATION_SPLIT = 0.1"
   ]
  },
  {
   "cell_type": "code",
   "execution_count": 90,
   "metadata": {
    "scrolled": true
   },
   "outputs": [
    {
     "name": "stdout",
     "output_type": "stream",
     "text": [
      "_________________________________________________________________\n",
      "Layer (type)                 Output Shape              Param #   \n",
      "=================================================================\n",
      "embedding_13 (Embedding)     (None, 16, 100)           4598400   \n",
      "_________________________________________________________________\n",
      "dropout_49 (Dropout)         (None, 16, 100)           0         \n",
      "_________________________________________________________________\n",
      "conv1d_13 (Conv1D)           (None, 9, 100)            80100     \n",
      "_________________________________________________________________\n",
      "max_pooling1d_13 (MaxPooling (None, 1, 100)            0         \n",
      "_________________________________________________________________\n",
      "flatten_13 (Flatten)         (None, 100)               0         \n",
      "_________________________________________________________________\n",
      "dropout_50 (Dropout)         (None, 100)               0         \n",
      "_________________________________________________________________\n",
      "dense_37 (Dense)             (None, 500)               50500     \n",
      "_________________________________________________________________\n",
      "dropout_51 (Dropout)         (None, 500)               0         \n",
      "_________________________________________________________________\n",
      "dense_38 (Dense)             (None, 500)               250500    \n",
      "_________________________________________________________________\n",
      "dropout_52 (Dropout)         (None, 500)               0         \n",
      "_________________________________________________________________\n",
      "dense_39 (Dense)             (None, 2)                 1002      \n",
      "=================================================================\n",
      "Total params: 4,980,502\n",
      "Trainable params: 4,980,502\n",
      "Non-trainable params: 0\n",
      "_________________________________________________________________\n",
      "None\n",
      "Train on 135000 samples, validate on 15000 samples\n",
      "Epoch 1/10\n",
      "135000/135000 [==============================] - 49s 363us/step - loss: 0.7093 - acc: 0.6014 - f1_m: 0.6014 - auc_m: 0.5651 - val_loss: 0.6143 - val_acc: 0.6752 - val_f1_m: 0.6752 - val_auc_m: 0.6480\n",
      "Epoch 2/10\n",
      "135000/135000 [==============================] - 47s 350us/step - loss: 0.6059 - acc: 0.6800 - f1_m: 0.6800 - auc_m: 0.6803 - val_loss: 0.5994 - val_acc: 0.6807 - val_f1_m: 0.6807 - val_auc_m: 0.6998\n",
      "Epoch 3/10\n",
      "135000/135000 [==============================] - 49s 361us/step - loss: 0.5872 - acc: 0.6945 - f1_m: 0.6945 - auc_m: 0.7131 - val_loss: 0.5963 - val_acc: 0.6842 - val_f1_m: 0.6842 - val_auc_m: 0.7221\n",
      "Epoch 4/10\n",
      "135000/135000 [==============================] - 49s 361us/step - loss: 0.5747 - acc: 0.7053 - f1_m: 0.7053 - auc_m: 0.7299 - val_loss: 0.6110 - val_acc: 0.6747 - val_f1_m: 0.6747 - val_auc_m: 0.7358\n",
      "Epoch 5/10\n",
      "135000/135000 [==============================] - 48s 354us/step - loss: 0.5633 - acc: 0.7151 - f1_m: 0.7151 - auc_m: 0.7417 - val_loss: 0.5997 - val_acc: 0.6844 - val_f1_m: 0.6844 - val_auc_m: 0.7463\n",
      "Epoch 6/10\n",
      "135000/135000 [==============================] - 47s 350us/step - loss: 0.5502 - acc: 0.7266 - f1_m: 0.7266 - auc_m: 0.7512 - val_loss: 0.6028 - val_acc: 0.6841 - val_f1_m: 0.6841 - val_auc_m: 0.7553\n",
      "Epoch 7/10\n",
      "135000/135000 [==============================] - 50s 371us/step - loss: 0.5386 - acc: 0.7360 - f1_m: 0.7360 - auc_m: 0.7596 - val_loss: 0.6304 - val_acc: 0.6754 - val_f1_m: 0.6754 - val_auc_m: 0.7632\n",
      "Epoch 8/10\n",
      "135000/135000 [==============================] - 49s 361us/step - loss: 0.5217 - acc: 0.7493 - f1_m: 0.7493 - auc_m: 0.7673 - val_loss: 0.6096 - val_acc: 0.6763 - val_f1_m: 0.6763 - val_auc_m: 0.7709\n",
      "Epoch 9/10\n",
      "135000/135000 [==============================] - 48s 352us/step - loss: 0.5058 - acc: 0.7602 - f1_m: 0.7602 - auc_m: 0.7749 - val_loss: 0.6356 - val_acc: 0.6749 - val_f1_m: 0.6749 - val_auc_m: 0.7782\n",
      "Epoch 10/10\n",
      "135000/135000 [==============================] - 49s 366us/step - loss: 0.4913 - acc: 0.7702 - f1_m: 0.7702 - auc_m: 0.7820 - val_loss: 0.7090 - val_acc: 0.6431 - val_f1_m: 0.6431 - val_auc_m: 0.7849\n",
      "dict_keys(['val_loss', 'val_acc', 'val_f1_m', 'val_auc_m', 'loss', 'acc', 'f1_m', 'auc_m'])\n",
      "0.7702074072758357\n"
     ]
    }
   ],
   "source": [
    "model, f1, auc = train(texts, labels, mydict, model_file='yelp_cnn.model')"
   ]
  },
  {
   "cell_type": "code",
   "execution_count": 91,
   "metadata": {},
   "outputs": [
    {
     "data": {
      "text/plain": [
       "0.6431332737207412"
      ]
     },
     "execution_count": 91,
     "metadata": {},
     "output_type": "execute_result"
    }
   ],
   "source": [
    "f1"
   ]
  },
  {
   "cell_type": "code",
   "execution_count": 92,
   "metadata": {},
   "outputs": [
    {
     "data": {
      "text/plain": [
       "0.7849175953865051"
      ]
     },
     "execution_count": 92,
     "metadata": {},
     "output_type": "execute_result"
    }
   ],
   "source": [
    "auc"
   ]
  },
  {
   "cell_type": "code",
   "execution_count": null,
   "metadata": {},
   "outputs": [],
   "source": []
  }
 ],
 "metadata": {
  "kernelspec": {
   "display_name": "tf",
   "language": "python",
   "name": "tf"
  },
  "language_info": {
   "codemirror_mode": {
    "name": "ipython",
    "version": 3
   },
   "file_extension": ".py",
   "mimetype": "text/x-python",
   "name": "python",
   "nbconvert_exporter": "python",
   "pygments_lexer": "ipython3",
   "version": "3.6.12"
  }
 },
 "nbformat": 4,
 "nbformat_minor": 4
}
